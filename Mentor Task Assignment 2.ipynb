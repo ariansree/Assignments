{
 "cells": [
  {
   "cell_type": "code",
   "execution_count": 17,
   "id": "507ddc09",
   "metadata": {},
   "outputs": [
    {
     "name": "stdout",
     "output_type": "stream",
     "text": [
      "1 2 3 4 5 3 3 4 5\n",
      "1:1\n",
      "2:1\n",
      "3:3\n",
      "4:2\n",
      "5:2\n"
     ]
    }
   ],
   "source": [
    " \n",
    "def compute_dist(my_list):\n",
    "     \n",
    "    f = {}\n",
    "    for items in my_list:\n",
    "        f[items] = my_list.count(items)\n",
    "     \n",
    "    for key, value in f.items():\n",
    "        print (str(key)+':'+str(value))\n",
    "\n",
    "n=list(input().split())\n",
    "\n",
    "compute_dist(n)"
   ]
  },
  {
   "cell_type": "code",
   "execution_count": null,
   "id": "53d0766a",
   "metadata": {},
   "outputs": [],
   "source": []
  }
 ],
 "metadata": {
  "kernelspec": {
   "display_name": "Python 3 (ipykernel)",
   "language": "python",
   "name": "python3"
  },
  "language_info": {
   "codemirror_mode": {
    "name": "ipython",
    "version": 3
   },
   "file_extension": ".py",
   "mimetype": "text/x-python",
   "name": "python",
   "nbconvert_exporter": "python",
   "pygments_lexer": "ipython3",
   "version": "3.9.12"
  }
 },
 "nbformat": 4,
 "nbformat_minor": 5
}
